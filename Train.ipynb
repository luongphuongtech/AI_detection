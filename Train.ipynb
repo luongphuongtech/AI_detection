{
  "nbformat": 4,
  "nbformat_minor": 0,
  "metadata": {
    "colab": {
      "provenance": [],
      "gpuType": "T4"
    },
    "kernelspec": {
      "name": "python3",
      "display_name": "Python 3"
    },
    "language_info": {
      "name": "python"
    },
    "accelerator": "GPU"
  },
  "cells": [
    {
      "cell_type": "code",
      "execution_count": null,
      "metadata": {
        "id": "V98V2AJslfyO"
      },
      "outputs": [],
      "source": [
        "!pip install ultralytics"
      ]
    },
    {
      "cell_type": "markdown",
      "source": [
        "Install ultralytics library"
      ],
      "metadata": {
        "id": "IebH2LlnCyuO"
      }
    },
    {
      "cell_type": "code",
      "source": [
        "!pip3 install torch torchvision torchaudio --index-url https://download.pytorch.org/whl/cu118"
      ],
      "metadata": {
        "id": "xcxsOr3NlmG9"
      },
      "execution_count": null,
      "outputs": []
    },
    {
      "cell_type": "markdown",
      "source": [
        "download newest version of torch"
      ],
      "metadata": {
        "id": "yw_PezCkCzpy"
      }
    },
    {
      "cell_type": "code",
      "source": [
        "import torch"
      ],
      "metadata": {
        "id": "T2h6PccJlkC7"
      },
      "execution_count": null,
      "outputs": []
    },
    {
      "cell_type": "markdown",
      "source": [
        "import torch"
      ],
      "metadata": {
        "id": "K07PjlhlC9Dz"
      }
    },
    {
      "cell_type": "code",
      "source": [
        "!wget https://github.com/ultralytics/assets/releases/download/v0.0.0/yolov8x.pt"
      ],
      "metadata": {
        "id": "NAOCB1v8lqQk"
      },
      "execution_count": null,
      "outputs": []
    },
    {
      "cell_type": "markdown",
      "source": [
        "download yolov8x"
      ],
      "metadata": {
        "id": "exGgOyq1C_j4"
      }
    },
    {
      "cell_type": "code",
      "source": [
        "from google.colab import drive\n",
        "drive.mount('/content/drive')"
      ],
      "metadata": {
        "id": "pOHGWj8RluB4"
      },
      "execution_count": null,
      "outputs": []
    },
    {
      "cell_type": "markdown",
      "source": [
        "conecting to drive"
      ],
      "metadata": {
        "id": "K_J5gdx4DD5q"
      }
    },
    {
      "cell_type": "code",
      "source": [
        "%cd '/content/drive/MyDrive/TrainAI'"
      ],
      "metadata": {
        "id": "GskkT6JClwy-"
      },
      "execution_count": null,
      "outputs": []
    },
    {
      "cell_type": "code",
      "source": [
        "cd to your folder have file data.zip"
      ],
      "metadata": {
        "id": "y84b0TofDIf8"
      },
      "execution_count": null,
      "outputs": []
    },
    {
      "cell_type": "code",
      "source": [
        "!unzip data.zip"
      ],
      "metadata": {
        "id": "5daqbHtmmB3v"
      },
      "execution_count": null,
      "outputs": []
    },
    {
      "cell_type": "code",
      "source": [
        "unzip file data.zip"
      ],
      "metadata": {
        "id": "f5gFYDLfDNIS"
      },
      "execution_count": null,
      "outputs": []
    },
    {
      "cell_type": "code",
      "source": [
        "from ultralytics import YOLO"
      ],
      "metadata": {
        "id": "ZEoafGOemGrM"
      },
      "execution_count": null,
      "outputs": []
    },
    {
      "cell_type": "markdown",
      "source": [
        "import YOLO"
      ],
      "metadata": {
        "id": "MeIliyifDRD_"
      }
    },
    {
      "cell_type": "code",
      "source": [
        "!yolo task=detect mode=train  epochs=120 data= 'path/to/your/file/.yaml' model=yolov8x.pt imgsz=640"
      ],
      "metadata": {
        "id": "9hencdgBCOaI"
      },
      "execution_count": null,
      "outputs": []
    },
    {
      "cell_type": "code",
      "source": [
        "the command to train"
      ],
      "metadata": {
        "id": "MoF-6yyzDS7Q"
      },
      "execution_count": null,
      "outputs": []
    },
    {
      "cell_type": "code",
      "source": [
        "!yolo task=detect mode=train resume model=\"path/to/your/model/want/yo/resume/train\" data='path/to/your/file/.yaml' epochs= 120 imgsz=640"
      ],
      "metadata": {
        "id": "Pd3spot3mHs-"
      },
      "execution_count": null,
      "outputs": []
    },
    {
      "cell_type": "markdown",
      "source": [
        "the command to continue train.\n"
      ],
      "metadata": {
        "id": "5u3cQd3sDWBK"
      }
    }
  ]
}